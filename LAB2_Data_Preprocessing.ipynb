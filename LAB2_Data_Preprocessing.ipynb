{
 "cells": [
  {
   "cell_type": "markdown",
   "id": "b4e84748",
   "metadata": {},
   "source": [
    "# LAB 2 : Data Preprocessing Tools"
   ]
  },
  {
   "cell_type": "markdown",
   "id": "f52013f2",
   "metadata": {},
   "source": [
    "## Import libraries"
   ]
  },
  {
   "cell_type": "code",
   "execution_count": 13,
   "id": "d00f2d76",
   "metadata": {},
   "outputs": [],
   "source": [
    "import numpy as np\n",
    "import pandas as pd\n",
    "import matplotlib.pyplot as plt\n",
    "import seaborn as sns"
   ]
  },
  {
   "cell_type": "markdown",
   "id": "f923ad7e",
   "metadata": {},
   "source": [
    "## Import dataset"
   ]
  },
  {
   "cell_type": "code",
   "execution_count": 14,
   "id": "3fabe5f7",
   "metadata": {},
   "outputs": [],
   "source": [
    "dataset = pd.read_csv('onlinefoods.csv')"
   ]
  },
  {
   "cell_type": "markdown",
   "id": "81c02fc2",
   "metadata": {},
   "source": [
    "## EDA Steps(Exploratory Dataset Analysis)"
   ]
  },
  {
   "cell_type": "code",
   "execution_count": 15,
   "id": "534d1293",
   "metadata": {},
   "outputs": [
    {
     "data": {
      "text/html": [
       "<div>\n",
       "<style scoped>\n",
       "    .dataframe tbody tr th:only-of-type {\n",
       "        vertical-align: middle;\n",
       "    }\n",
       "\n",
       "    .dataframe tbody tr th {\n",
       "        vertical-align: top;\n",
       "    }\n",
       "\n",
       "    .dataframe thead th {\n",
       "        text-align: right;\n",
       "    }\n",
       "</style>\n",
       "<table border=\"1\" class=\"dataframe\">\n",
       "  <thead>\n",
       "    <tr style=\"text-align: right;\">\n",
       "      <th></th>\n",
       "      <th>Educational Qualifications</th>\n",
       "      <th>Age</th>\n",
       "      <th>Monthly Income</th>\n",
       "      <th>Output</th>\n",
       "    </tr>\n",
       "  </thead>\n",
       "  <tbody>\n",
       "    <tr>\n",
       "      <th>0</th>\n",
       "      <td>Graduate</td>\n",
       "      <td>22</td>\n",
       "      <td>25000</td>\n",
       "      <td>Yes</td>\n",
       "    </tr>\n",
       "    <tr>\n",
       "      <th>1</th>\n",
       "      <td>Ph.D</td>\n",
       "      <td>25</td>\n",
       "      <td>50000</td>\n",
       "      <td>Yes</td>\n",
       "    </tr>\n",
       "    <tr>\n",
       "      <th>2</th>\n",
       "      <td>Post Graduate</td>\n",
       "      <td>22</td>\n",
       "      <td>25000</td>\n",
       "      <td>Yes</td>\n",
       "    </tr>\n",
       "    <tr>\n",
       "      <th>3</th>\n",
       "      <td>Post Graduate</td>\n",
       "      <td>25</td>\n",
       "      <td>25000</td>\n",
       "      <td>Yes</td>\n",
       "    </tr>\n",
       "    <tr>\n",
       "      <th>4</th>\n",
       "      <td>Post Graduate</td>\n",
       "      <td>27</td>\n",
       "      <td>25000</td>\n",
       "      <td>Yes</td>\n",
       "    </tr>\n",
       "  </tbody>\n",
       "</table>\n",
       "</div>"
      ],
      "text/plain": [
       "  Educational Qualifications  Age  Monthly Income Output\n",
       "0                   Graduate   22           25000    Yes\n",
       "1                       Ph.D   25           50000    Yes\n",
       "2              Post Graduate   22           25000    Yes\n",
       "3              Post Graduate   25           25000    Yes\n",
       "4              Post Graduate   27           25000    Yes"
      ]
     },
     "execution_count": 15,
     "metadata": {},
     "output_type": "execute_result"
    }
   ],
   "source": [
    "dataset.head()"
   ]
  },
  {
   "cell_type": "code",
   "execution_count": 16,
   "id": "c195d4fc",
   "metadata": {},
   "outputs": [
    {
     "data": {
      "text/plain": [
       "(20, 4)"
      ]
     },
     "execution_count": 16,
     "metadata": {},
     "output_type": "execute_result"
    }
   ],
   "source": [
    "dataset.shape"
   ]
  },
  {
   "cell_type": "code",
   "execution_count": 17,
   "id": "4ab78579",
   "metadata": {},
   "outputs": [
    {
     "data": {
      "text/plain": [
       "Index(['Educational Qualifications', 'Age', 'Monthly Income', 'Output'], dtype='object')"
      ]
     },
     "execution_count": 17,
     "metadata": {},
     "output_type": "execute_result"
    }
   ],
   "source": [
    "dataset.columns"
   ]
  },
  {
   "cell_type": "code",
   "execution_count": 18,
   "id": "8ced9112",
   "metadata": {},
   "outputs": [
    {
     "name": "stdout",
     "output_type": "stream",
     "text": [
      "<class 'pandas.core.frame.DataFrame'>\n",
      "RangeIndex: 20 entries, 0 to 19\n",
      "Data columns (total 4 columns):\n",
      " #   Column                      Non-Null Count  Dtype \n",
      "---  ------                      --------------  ----- \n",
      " 0   Educational Qualifications  20 non-null     object\n",
      " 1   Age                         20 non-null     int64 \n",
      " 2   Monthly Income              20 non-null     int64 \n",
      " 3   Output                      20 non-null     object\n",
      "dtypes: int64(2), object(2)\n",
      "memory usage: 768.0+ bytes\n"
     ]
    }
   ],
   "source": [
    "dataset.info()"
   ]
  },
  {
   "cell_type": "code",
   "execution_count": 19,
   "id": "08e55510",
   "metadata": {},
   "outputs": [
    {
     "data": {
      "text/html": [
       "<div>\n",
       "<style scoped>\n",
       "    .dataframe tbody tr th:only-of-type {\n",
       "        vertical-align: middle;\n",
       "    }\n",
       "\n",
       "    .dataframe tbody tr th {\n",
       "        vertical-align: top;\n",
       "    }\n",
       "\n",
       "    .dataframe thead th {\n",
       "        text-align: right;\n",
       "    }\n",
       "</style>\n",
       "<table border=\"1\" class=\"dataframe\">\n",
       "  <thead>\n",
       "    <tr style=\"text-align: right;\">\n",
       "      <th></th>\n",
       "      <th>Age</th>\n",
       "      <th>Monthly Income</th>\n",
       "    </tr>\n",
       "  </thead>\n",
       "  <tbody>\n",
       "    <tr>\n",
       "      <th>count</th>\n",
       "      <td>20.000000</td>\n",
       "      <td>20.000000</td>\n",
       "    </tr>\n",
       "    <tr>\n",
       "      <th>mean</th>\n",
       "      <td>24.800000</td>\n",
       "      <td>35000.000000</td>\n",
       "    </tr>\n",
       "    <tr>\n",
       "      <th>std</th>\n",
       "      <td>2.307881</td>\n",
       "      <td>12565.617249</td>\n",
       "    </tr>\n",
       "    <tr>\n",
       "      <th>min</th>\n",
       "      <td>22.000000</td>\n",
       "      <td>25000.000000</td>\n",
       "    </tr>\n",
       "    <tr>\n",
       "      <th>25%</th>\n",
       "      <td>23.750000</td>\n",
       "      <td>25000.000000</td>\n",
       "    </tr>\n",
       "    <tr>\n",
       "      <th>50%</th>\n",
       "      <td>24.000000</td>\n",
       "      <td>25000.000000</td>\n",
       "    </tr>\n",
       "    <tr>\n",
       "      <th>75%</th>\n",
       "      <td>26.000000</td>\n",
       "      <td>50000.000000</td>\n",
       "    </tr>\n",
       "    <tr>\n",
       "      <th>max</th>\n",
       "      <td>31.000000</td>\n",
       "      <td>50000.000000</td>\n",
       "    </tr>\n",
       "  </tbody>\n",
       "</table>\n",
       "</div>"
      ],
      "text/plain": [
       "             Age  Monthly Income\n",
       "count  20.000000       20.000000\n",
       "mean   24.800000    35000.000000\n",
       "std     2.307881    12565.617249\n",
       "min    22.000000    25000.000000\n",
       "25%    23.750000    25000.000000\n",
       "50%    24.000000    25000.000000\n",
       "75%    26.000000    50000.000000\n",
       "max    31.000000    50000.000000"
      ]
     },
     "execution_count": 19,
     "metadata": {},
     "output_type": "execute_result"
    }
   ],
   "source": [
    "# descriptive statastics for numerical features\n",
    "dataset.describe()"
   ]
  },
  {
   "cell_type": "code",
   "execution_count": 20,
   "id": "919b0457",
   "metadata": {},
   "outputs": [
    {
     "data": {
      "text/html": [
       "<div>\n",
       "<style scoped>\n",
       "    .dataframe tbody tr th:only-of-type {\n",
       "        vertical-align: middle;\n",
       "    }\n",
       "\n",
       "    .dataframe tbody tr th {\n",
       "        vertical-align: top;\n",
       "    }\n",
       "\n",
       "    .dataframe thead th {\n",
       "        text-align: right;\n",
       "    }\n",
       "</style>\n",
       "<table border=\"1\" class=\"dataframe\">\n",
       "  <thead>\n",
       "    <tr style=\"text-align: right;\">\n",
       "      <th></th>\n",
       "      <th>Educational Qualifications</th>\n",
       "      <th>Output</th>\n",
       "    </tr>\n",
       "  </thead>\n",
       "  <tbody>\n",
       "    <tr>\n",
       "      <th>count</th>\n",
       "      <td>20</td>\n",
       "      <td>20</td>\n",
       "    </tr>\n",
       "    <tr>\n",
       "      <th>unique</th>\n",
       "      <td>3</td>\n",
       "      <td>2</td>\n",
       "    </tr>\n",
       "    <tr>\n",
       "      <th>top</th>\n",
       "      <td>Post Graduate</td>\n",
       "      <td>Yes</td>\n",
       "    </tr>\n",
       "    <tr>\n",
       "      <th>freq</th>\n",
       "      <td>10</td>\n",
       "      <td>14</td>\n",
       "    </tr>\n",
       "  </tbody>\n",
       "</table>\n",
       "</div>"
      ],
      "text/plain": [
       "       Educational Qualifications Output\n",
       "count                          20     20\n",
       "unique                          3      2\n",
       "top                 Post Graduate    Yes\n",
       "freq                           10     14"
      ]
     },
     "execution_count": 20,
     "metadata": {},
     "output_type": "execute_result"
    }
   ],
   "source": [
    "# descriptive statastics for categorical features\n",
    "dataset.describe(include= 'object')"
   ]
  },
  {
   "cell_type": "markdown",
   "id": "03dd0eee",
   "metadata": {},
   "source": [
    "## Preprocessing Steps"
   ]
  },
  {
   "cell_type": "markdown",
   "id": "ff5cb7eb",
   "metadata": {},
   "source": [
    "### Step 1 : Divide dataframe into independent variable/input and dependent / output Featutres"
   ]
  },
  {
   "cell_type": "code",
   "execution_count": 21,
   "id": "153cf9aa",
   "metadata": {},
   "outputs": [],
   "source": [
    "X = dataset.iloc [ : , :-1 ]\n",
    "Y = dataset.iloc [ : , -1]"
   ]
  },
  {
   "cell_type": "code",
   "execution_count": 22,
   "id": "578da843",
   "metadata": {},
   "outputs": [
    {
     "name": "stdout",
     "output_type": "stream",
     "text": [
      "   Educational Qualifications  Age  Monthly Income\n",
      "0                    Graduate   22           25000\n",
      "1                        Ph.D   25           50000\n",
      "2               Post Graduate   22           25000\n",
      "3               Post Graduate   25           25000\n",
      "4               Post Graduate   27           25000\n",
      "5               Post Graduate   22           25000\n",
      "6                        Ph.D   31           50000\n",
      "7               Post Graduate   23           50000\n",
      "8                    Graduate   24           25000\n",
      "9                        Ph.D   24           50000\n",
      "10              Post Graduate   24           25000\n",
      "11              Post Graduate   24           50000\n",
      "12              Post Graduate   24           25000\n",
      "13                   Graduate   28           25000\n",
      "14              Post Graduate   27           50000\n",
      "15                       Ph.D   26           25000\n",
      "16                   Graduate   26           50000\n",
      "17              Post Graduate   24           25000\n",
      "18                   Graduate   22           25000\n",
      "19                   Graduate   26           50000\n"
     ]
    }
   ],
   "source": [
    "print(X)"
   ]
  },
  {
   "cell_type": "code",
   "execution_count": 23,
   "id": "58af889d",
   "metadata": {},
   "outputs": [
    {
     "name": "stdout",
     "output_type": "stream",
     "text": [
      "0     Yes\n",
      "1     Yes\n",
      "2     Yes\n",
      "3     Yes\n",
      "4     Yes\n",
      "5     Yes\n",
      "6     Yes\n",
      "7     Yes\n",
      "8     Yes\n",
      "9     Yes\n",
      "10     No\n",
      "11    Yes\n",
      "12    Yes\n",
      "13     No\n",
      "14     No\n",
      "15     No\n",
      "16     No\n",
      "17     No\n",
      "18    Yes\n",
      "19    Yes\n",
      "Name: Output, dtype: object\n"
     ]
    }
   ],
   "source": [
    "print(Y)"
   ]
  },
  {
   "cell_type": "markdown",
   "id": "5a673218",
   "metadata": {},
   "source": [
    "### Step 2: Handle the missing values in Dataset"
   ]
  },
  {
   "cell_type": "code",
   "execution_count": 24,
   "id": "99db37ac",
   "metadata": {},
   "outputs": [
    {
     "data": {
      "text/plain": [
       "\"from sklearn.impute import SimpleImputer\\nimputer = SimpleImputer(missing_values = np.nan,\\n                       strategy = 'mean')\\nimputer.fit(X.iloc[:,1:3])\\nX.iloc[:,1:3] = imputer.transform(X.iloc[:,1:3])\\nprint(X)\""
      ]
     },
     "execution_count": 24,
     "metadata": {},
     "output_type": "execute_result"
    }
   ],
   "source": [
    "'''from sklearn.impute import SimpleImputer\n",
    "imputer = SimpleImputer(missing_values = np.nan,\n",
    "                       strategy = 'mean')\n",
    "imputer.fit(X.iloc[:,1:3])\n",
    "X.iloc[:,1:3] = imputer.transform(X.iloc[:,1:3])\n",
    "print(X)'''"
   ]
  },
  {
   "cell_type": "markdown",
   "id": "1e2d1beb",
   "metadata": {},
   "source": [
    "### Step 3 : Encoding categorical data"
   ]
  },
  {
   "cell_type": "code",
   "execution_count": 25,
   "id": "7a2cfe8c",
   "metadata": {},
   "outputs": [
    {
     "data": {
      "text/plain": [
       "Post Graduate    10\n",
       "Graduate          6\n",
       "Ph.D              4\n",
       "Name: Educational Qualifications, dtype: int64"
      ]
     },
     "execution_count": 25,
     "metadata": {},
     "output_type": "execute_result"
    }
   ],
   "source": [
    "dataset['Educational Qualifications'].value_counts()"
   ]
  },
  {
   "cell_type": "code",
   "execution_count": 26,
   "id": "89b42bfb",
   "metadata": {},
   "outputs": [
    {
     "data": {
      "text/plain": [
       "Yes    14\n",
       "No      6\n",
       "Name: Output, dtype: int64"
      ]
     },
     "execution_count": 26,
     "metadata": {},
     "output_type": "execute_result"
    }
   ],
   "source": [
    "dataset['Output'].value_counts()"
   ]
  },
  {
   "cell_type": "markdown",
   "id": "e53130f0",
   "metadata": {},
   "source": [
    "**A. Encoding the Independent Variable (i/p feature/X)**\n",
    "\n",
    "In X we have Educational Qualifications as categorical feature\n",
    "\n",
    "It has 3 categories\n",
    "\n",
    "Hence used One hot encoder"
   ]
  },
  {
   "cell_type": "code",
   "execution_count": 27,
   "id": "7c085181",
   "metadata": {},
   "outputs": [],
   "source": [
    "from sklearn.compose import ColumnTransformer\n",
    "from sklearn.preprocessing import OneHotEncoder\n",
    "\n",
    "ct = ColumnTransformer(transformers = [('encoder',\n",
    "                                     OneHotEncoder(),\n",
    "                                     [0])],remainder = 'passthrough')\n",
    "X = np.array(ct.fit_transform(X))"
   ]
  },
  {
   "cell_type": "code",
   "execution_count": 28,
   "id": "620409fd",
   "metadata": {},
   "outputs": [
    {
     "name": "stdout",
     "output_type": "stream",
     "text": [
      "[[1.0e+00 0.0e+00 0.0e+00 2.2e+01 2.5e+04]\n",
      " [0.0e+00 1.0e+00 0.0e+00 2.5e+01 5.0e+04]\n",
      " [0.0e+00 0.0e+00 1.0e+00 2.2e+01 2.5e+04]\n",
      " [0.0e+00 0.0e+00 1.0e+00 2.5e+01 2.5e+04]\n",
      " [0.0e+00 0.0e+00 1.0e+00 2.7e+01 2.5e+04]\n",
      " [0.0e+00 0.0e+00 1.0e+00 2.2e+01 2.5e+04]\n",
      " [0.0e+00 1.0e+00 0.0e+00 3.1e+01 5.0e+04]\n",
      " [0.0e+00 0.0e+00 1.0e+00 2.3e+01 5.0e+04]\n",
      " [1.0e+00 0.0e+00 0.0e+00 2.4e+01 2.5e+04]\n",
      " [0.0e+00 1.0e+00 0.0e+00 2.4e+01 5.0e+04]\n",
      " [0.0e+00 0.0e+00 1.0e+00 2.4e+01 2.5e+04]\n",
      " [0.0e+00 0.0e+00 1.0e+00 2.4e+01 5.0e+04]\n",
      " [0.0e+00 0.0e+00 1.0e+00 2.4e+01 2.5e+04]\n",
      " [1.0e+00 0.0e+00 0.0e+00 2.8e+01 2.5e+04]\n",
      " [0.0e+00 0.0e+00 1.0e+00 2.7e+01 5.0e+04]\n",
      " [0.0e+00 1.0e+00 0.0e+00 2.6e+01 2.5e+04]\n",
      " [1.0e+00 0.0e+00 0.0e+00 2.6e+01 5.0e+04]\n",
      " [0.0e+00 0.0e+00 1.0e+00 2.4e+01 2.5e+04]\n",
      " [1.0e+00 0.0e+00 0.0e+00 2.2e+01 2.5e+04]\n",
      " [1.0e+00 0.0e+00 0.0e+00 2.6e+01 5.0e+04]]\n"
     ]
    }
   ],
   "source": [
    "print(X)"
   ]
  },
  {
   "cell_type": "markdown",
   "id": "a78474c8",
   "metadata": {},
   "source": [
    "**B. Encoding the Dependent Variable (o/p feature/ target / Y)**\n",
    "\n",
    "Here there only two categories in Y i.e. Yes/No\n",
    "\n",
    "Hence used Label encoder"
   ]
  },
  {
   "cell_type": "code",
   "execution_count": 29,
   "id": "904e1eeb",
   "metadata": {},
   "outputs": [],
   "source": [
    "from sklearn.preprocessing import LabelEncoder\n",
    "\n",
    "le = LabelEncoder()\n",
    "\n",
    "Y = le.fit_transform(Y)"
   ]
  },
  {
   "cell_type": "code",
   "execution_count": 30,
   "id": "677d52a4",
   "metadata": {},
   "outputs": [
    {
     "name": "stdout",
     "output_type": "stream",
     "text": [
      "[1 1 1 1 1 1 1 1 1 1 0 1 1 0 0 0 0 0 1 1]\n"
     ]
    }
   ],
   "source": [
    "print(Y)"
   ]
  },
  {
   "cell_type": "markdown",
   "id": "9a4e41fa",
   "metadata": {},
   "source": [
    "### Step 4 : Splitting Data into Training and Testing"
   ]
  },
  {
   "cell_type": "code",
   "execution_count": 31,
   "id": "ba27bc90",
   "metadata": {},
   "outputs": [],
   "source": [
    "from sklearn.model_selection import train_test_split\n",
    "\n",
    "X_train,X_test,Y_train,Y_test = train_test_split(X,Y,\n",
    "                                        test_size = 0.3,\n",
    "                                    random_state =1)"
   ]
  },
  {
   "cell_type": "code",
   "execution_count": 32,
   "id": "c5b34b50",
   "metadata": {},
   "outputs": [
    {
     "name": "stdout",
     "output_type": "stream",
     "text": [
      "[[0.0e+00 0.0e+00 1.0e+00 2.7e+01 2.5e+04]\n",
      " [0.0e+00 0.0e+00 1.0e+00 2.4e+01 2.5e+04]\n",
      " [0.0e+00 0.0e+00 1.0e+00 2.3e+01 5.0e+04]\n",
      " [0.0e+00 1.0e+00 0.0e+00 2.5e+01 5.0e+04]\n",
      " [1.0e+00 0.0e+00 0.0e+00 2.8e+01 2.5e+04]\n",
      " [1.0e+00 0.0e+00 0.0e+00 2.2e+01 2.5e+04]\n",
      " [1.0e+00 0.0e+00 0.0e+00 2.6e+01 5.0e+04]\n",
      " [1.0e+00 0.0e+00 0.0e+00 2.2e+01 2.5e+04]\n",
      " [0.0e+00 1.0e+00 0.0e+00 2.4e+01 5.0e+04]\n",
      " [0.0e+00 1.0e+00 0.0e+00 2.6e+01 2.5e+04]\n",
      " [1.0e+00 0.0e+00 0.0e+00 2.4e+01 2.5e+04]\n",
      " [0.0e+00 0.0e+00 1.0e+00 2.4e+01 2.5e+04]\n",
      " [0.0e+00 0.0e+00 1.0e+00 2.4e+01 5.0e+04]\n",
      " [0.0e+00 0.0e+00 1.0e+00 2.2e+01 2.5e+04]]\n"
     ]
    }
   ],
   "source": [
    "print(X_train)"
   ]
  },
  {
   "cell_type": "markdown",
   "id": "d3b7f440",
   "metadata": {},
   "source": [
    "### Step 5 : Feature Scaling"
   ]
  },
  {
   "cell_type": "code",
   "execution_count": 33,
   "id": "9f1969ba",
   "metadata": {},
   "outputs": [],
   "source": [
    "from sklearn.preprocessing import StandardScaler\n",
    "sc = StandardScaler()\n",
    "X_train[:,3:] = sc.fit_transform(X_train[:,3:])\n",
    "X_test[:,3:] = sc.fit_transform(X_test[:,3:])"
   ]
  },
  {
   "cell_type": "code",
   "execution_count": 34,
   "id": "717d19bc",
   "metadata": {},
   "outputs": [
    {
     "name": "stdout",
     "output_type": "stream",
     "text": [
      "[[ 0.          0.          1.         -0.29827499 -1.        ]\n",
      " [ 1.          0.          0.          0.059655    1.        ]\n",
      " [ 0.          1.          0.          1.84930496  1.        ]\n",
      " [ 0.          0.          1.         -0.65620498 -1.        ]\n",
      " [ 0.          0.          1.         -1.37206497 -1.        ]\n",
      " [ 0.          0.          1.          0.41758499  1.        ]]\n"
     ]
    }
   ],
   "source": [
    "print(X_test)"
   ]
  },
  {
   "cell_type": "markdown",
   "id": "e5c71bb8",
   "metadata": {},
   "source": [
    "### Q1. When to use label Encoder and when to use OneHotEncoder\n",
    "#### Ans: LabelEncoder is used when dealing with categorical variables that exhibit an inherent ordinal relationship, and OneHotEncoder is used for nominal categorical variables where there is no meaningful order among the categories.\n",
    "#### When dealing with categorical variables with more than two categories, it's often preferable to use OneHotEncoder to ensure that the model treats each category as a distinct entity without implying any ordinality. This approach helps maintain the integrity of the categorical data and prevents the model from making incorrect assumptions about the relationships among the categories."
   ]
  },
  {
   "cell_type": "markdown",
   "id": "1a7d22fe",
   "metadata": {},
   "source": [
    "### Q2. Write a code to Feature Scaling our dataset numerical variable using MinMaxScaler"
   ]
  },
  {
   "cell_type": "code",
   "execution_count": 35,
   "id": "36a64f8f",
   "metadata": {},
   "outputs": [
    {
     "name": "stdout",
     "output_type": "stream",
     "text": [
      "[[0.         0.         1.         0.33333333 0.        ]\n",
      " [1.         0.         0.         0.44444444 1.        ]\n",
      " [0.         1.         0.         1.         1.        ]\n",
      " [0.         0.         1.         0.22222222 0.        ]\n",
      " [0.         0.         1.         0.         0.        ]\n",
      " [0.         0.         1.         0.55555556 1.        ]]\n"
     ]
    }
   ],
   "source": [
    "from sklearn.preprocessing import MinMaxScaler\n",
    "s = MinMaxScaler ()\n",
    "X_train[:,3:] = s.fit_transform(X_train[:,3:])\n",
    "X_test[:,3:] = s.fit_transform(X_test[:,3:])\n",
    "print(X_test)"
   ]
  },
  {
   "cell_type": "markdown",
   "id": "a1e1b36b",
   "metadata": {},
   "source": [
    "### Q3. For below student dataset remove missing values from column 'gender' & 'Marks'"
   ]
  },
  {
   "cell_type": "code",
   "execution_count": 36,
   "id": "40018e8e",
   "metadata": {},
   "outputs": [
    {
     "name": "stdout",
     "output_type": "stream",
     "text": [
      "   marks gender     result\n",
      "0   85.0      M   verygood\n",
      "1   95.0      F  excellent\n",
      "4   70.0      M       good\n",
      "6   92.0      F   verygood\n",
      "7   98.0      M  excellent\n"
     ]
    }
   ],
   "source": [
    "students=[[85,'M','verygood'],[95,'F','excellent'],\n",
    "          [75,None,'good'],[np.NaN,'M','average'],\n",
    "          [70,'M','good'],[np.NaN,None,'verygood'],\n",
    "          [92,'F','verygood'],[98,'M','excellent']]\n",
    "dfstd=pd.DataFrame(students)\n",
    "dfstd.columns=['marks','gender','result']\n",
    "#Removing rows with missing values in 'gender' and 'marks' columns\n",
    "dfstd.dropna(subset=['gender','marks'],inplace=True)\n",
    "print(dfstd)"
   ]
  },
  {
   "cell_type": "markdown",
   "id": "36bd409c",
   "metadata": {},
   "source": [
    "### "
   ]
  },
  {
   "cell_type": "markdown",
   "id": "84e5d445",
   "metadata": {},
   "source": [
    "### Q4. For dataset given above apply proper Categorical Encoder to encode column 'gender' and 'result'"
   ]
  },
  {
   "cell_type": "code",
   "execution_count": 37,
   "id": "62f2c9fe",
   "metadata": {},
   "outputs": [
    {
     "name": "stdout",
     "output_type": "stream",
     "text": [
      "   marks gender     result  gender_encoded  result_encoded\n",
      "0   85.0      M   verygood               1               2\n",
      "1   95.0      F  excellent               0               0\n",
      "4   70.0      M       good               1               1\n",
      "6   92.0      F   verygood               0               2\n",
      "7   98.0      M  excellent               1               0\n"
     ]
    }
   ],
   "source": [
    "from sklearn.preprocessing import LabelEncoder\n",
    "l=LabelEncoder()\n",
    "dfstd['gender_encoded']=l.fit_transform(dfstd['gender'].astype(str))\n",
    "dfstd['result_encoded']=l.fit_transform(dfstd['result'].astype(str))\n",
    "print(dfstd)"
   ]
  }
 ],
 "metadata": {
  "kernelspec": {
   "display_name": "Python 3 (ipykernel)",
   "language": "python",
   "name": "python3"
  },
  "language_info": {
   "codemirror_mode": {
    "name": "ipython",
    "version": 3
   },
   "file_extension": ".py",
   "mimetype": "text/x-python",
   "name": "python",
   "nbconvert_exporter": "python",
   "pygments_lexer": "ipython3",
   "version": "3.9.13"
  }
 },
 "nbformat": 4,
 "nbformat_minor": 5
}
