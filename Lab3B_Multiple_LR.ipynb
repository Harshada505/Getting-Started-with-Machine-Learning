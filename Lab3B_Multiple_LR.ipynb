{
 "cells": [
  {
   "cell_type": "markdown",
   "metadata": {
    "id": "CazISR8X_HUG"
   },
   "source": [
    "# Multiple Linear Regression\n",
    "\n"
   ]
  },
  {
   "cell_type": "markdown",
   "metadata": {
    "id": "pOyqYHTk_Q57"
   },
   "source": [
    "## Importing the libraries"
   ]
  },
  {
   "cell_type": "code",
   "execution_count": 60,
   "metadata": {
    "id": "t1M5IQSJTR63"
   },
   "outputs": [],
   "source": [
    "import numpy as np\n",
    "import matplotlib.pyplot as plt\n",
    "import pandas as pd"
   ]
  },
  {
   "cell_type": "markdown",
   "metadata": {
    "id": "vgC61-ah_WIz"
   },
   "source": [
    "## Importing the dataset"
   ]
  },
  {
   "cell_type": "code",
   "execution_count": 61,
   "metadata": {
    "id": "ixltEfVuTkmF"
   },
   "outputs": [],
   "source": [
    "dataset = pd.read_csv('rented_bikes.csv')"
   ]
  },
  {
   "cell_type": "markdown",
   "metadata": {
    "id": "ikgTTnNZ_gJX"
   },
   "source": [
    "## EDA Steps\n",
    "Season(1: spring, 2: summer, 3: fall, 4: winter)\n",
    "Whether it is a holiday or not (0: no holiday, 1: holiday)\n",
    "Day of the week (1: Sunday, 2: Monday, …, 7: Saturday)"
   ]
  },
  {
   "cell_type": "code",
   "execution_count": 62,
   "metadata": {},
   "outputs": [
    {
     "data": {
      "text/html": [
       "<div>\n",
       "<style scoped>\n",
       "    .dataframe tbody tr th:only-of-type {\n",
       "        vertical-align: middle;\n",
       "    }\n",
       "\n",
       "    .dataframe tbody tr th {\n",
       "        vertical-align: top;\n",
       "    }\n",
       "\n",
       "    .dataframe thead th {\n",
       "        text-align: right;\n",
       "    }\n",
       "</style>\n",
       "<table border=\"1\" class=\"dataframe\">\n",
       "  <thead>\n",
       "    <tr style=\"text-align: right;\">\n",
       "      <th></th>\n",
       "      <th>season</th>\n",
       "      <th>holiday</th>\n",
       "      <th>weekday</th>\n",
       "      <th>weather</th>\n",
       "      <th>temp</th>\n",
       "      <th>humidity</th>\n",
       "      <th>windspeed</th>\n",
       "      <th>registered_bikes</th>\n",
       "    </tr>\n",
       "  </thead>\n",
       "  <tbody>\n",
       "    <tr>\n",
       "      <th>0</th>\n",
       "      <td>1</td>\n",
       "      <td>0</td>\n",
       "      <td>4</td>\n",
       "      <td>1</td>\n",
       "      <td>11.992500</td>\n",
       "      <td>42.0833</td>\n",
       "      <td>8.083550</td>\n",
       "      <td>1817</td>\n",
       "    </tr>\n",
       "    <tr>\n",
       "      <th>1</th>\n",
       "      <td>1</td>\n",
       "      <td>0</td>\n",
       "      <td>5</td>\n",
       "      <td>2</td>\n",
       "      <td>12.129153</td>\n",
       "      <td>77.5417</td>\n",
       "      <td>14.750050</td>\n",
       "      <td>1700</td>\n",
       "    </tr>\n",
       "    <tr>\n",
       "      <th>2</th>\n",
       "      <td>1</td>\n",
       "      <td>0</td>\n",
       "      <td>6</td>\n",
       "      <td>3</td>\n",
       "      <td>15.952731</td>\n",
       "      <td>0.0000</td>\n",
       "      <td>17.545759</td>\n",
       "      <td>577</td>\n",
       "    </tr>\n",
       "    <tr>\n",
       "      <th>3</th>\n",
       "      <td>1</td>\n",
       "      <td>0</td>\n",
       "      <td>0</td>\n",
       "      <td>2</td>\n",
       "      <td>12.977402</td>\n",
       "      <td>64.9565</td>\n",
       "      <td>15.608990</td>\n",
       "      <td>1730</td>\n",
       "    </tr>\n",
       "    <tr>\n",
       "      <th>4</th>\n",
       "      <td>1</td>\n",
       "      <td>0</td>\n",
       "      <td>1</td>\n",
       "      <td>1</td>\n",
       "      <td>13.495847</td>\n",
       "      <td>59.4583</td>\n",
       "      <td>14.791925</td>\n",
       "      <td>1408</td>\n",
       "    </tr>\n",
       "  </tbody>\n",
       "</table>\n",
       "</div>"
      ],
      "text/plain": [
       "   season  holiday  weekday  weather       temp  humidity  windspeed  \\\n",
       "0       1        0        4        1  11.992500   42.0833   8.083550   \n",
       "1       1        0        5        2  12.129153   77.5417  14.750050   \n",
       "2       1        0        6        3  15.952731    0.0000  17.545759   \n",
       "3       1        0        0        2  12.977402   64.9565  15.608990   \n",
       "4       1        0        1        1  13.495847   59.4583  14.791925   \n",
       "\n",
       "   registered_bikes  \n",
       "0              1817  \n",
       "1              1700  \n",
       "2               577  \n",
       "3              1730  \n",
       "4              1408  "
      ]
     },
     "execution_count": 62,
     "metadata": {},
     "output_type": "execute_result"
    }
   ],
   "source": [
    "dataset.head()"
   ]
  },
  {
   "cell_type": "code",
   "execution_count": 63,
   "metadata": {},
   "outputs": [
    {
     "data": {
      "text/plain": [
       "Index(['season', 'holiday', 'weekday', 'weather', 'temp', 'humidity',\n",
       "       'windspeed', 'registered_bikes'],\n",
       "      dtype='object')"
      ]
     },
     "execution_count": 63,
     "metadata": {},
     "output_type": "execute_result"
    }
   ],
   "source": [
    "dataset.columns"
   ]
  },
  {
   "cell_type": "code",
   "execution_count": 64,
   "metadata": {
    "colab": {
     "base_uri": "https://localhost:8080/"
    },
    "id": "4oZpPiB9_m6k",
    "outputId": "580bf1c3-55df-46ec-be59-62c75fe069f1"
   },
   "outputs": [
    {
     "name": "stdout",
     "output_type": "stream",
     "text": [
      "<class 'pandas.core.frame.DataFrame'>\n",
      "RangeIndex: 42 entries, 0 to 41\n",
      "Data columns (total 8 columns):\n",
      " #   Column            Non-Null Count  Dtype  \n",
      "---  ------            --------------  -----  \n",
      " 0   season            42 non-null     int64  \n",
      " 1   holiday           42 non-null     int64  \n",
      " 2   weekday           42 non-null     int64  \n",
      " 3   weather           42 non-null     int64  \n",
      " 4   temp              42 non-null     float64\n",
      " 5   humidity          42 non-null     float64\n",
      " 6   windspeed         42 non-null     float64\n",
      " 7   registered_bikes  42 non-null     int64  \n",
      "dtypes: float64(3), int64(5)\n",
      "memory usage: 2.8 KB\n"
     ]
    }
   ],
   "source": [
    "dataset.info()"
   ]
  },
  {
   "cell_type": "code",
   "execution_count": 65,
   "metadata": {
    "colab": {
     "base_uri": "https://localhost:8080/",
     "height": 297
    },
    "id": "m58zGV_N_sWX",
    "outputId": "50475652-da06-49d8-c756-b638b05ab909"
   },
   "outputs": [
    {
     "data": {
      "text/html": [
       "<div>\n",
       "<style scoped>\n",
       "    .dataframe tbody tr th:only-of-type {\n",
       "        vertical-align: middle;\n",
       "    }\n",
       "\n",
       "    .dataframe tbody tr th {\n",
       "        vertical-align: top;\n",
       "    }\n",
       "\n",
       "    .dataframe thead th {\n",
       "        text-align: right;\n",
       "    }\n",
       "</style>\n",
       "<table border=\"1\" class=\"dataframe\">\n",
       "  <thead>\n",
       "    <tr style=\"text-align: right;\">\n",
       "      <th></th>\n",
       "      <th>season</th>\n",
       "      <th>holiday</th>\n",
       "      <th>weekday</th>\n",
       "      <th>weather</th>\n",
       "      <th>temp</th>\n",
       "      <th>humidity</th>\n",
       "      <th>windspeed</th>\n",
       "      <th>registered_bikes</th>\n",
       "    </tr>\n",
       "  </thead>\n",
       "  <tbody>\n",
       "    <tr>\n",
       "      <th>count</th>\n",
       "      <td>42.000000</td>\n",
       "      <td>42.0</td>\n",
       "      <td>42.000000</td>\n",
       "      <td>42.000000</td>\n",
       "      <td>42.000000</td>\n",
       "      <td>42.000000</td>\n",
       "      <td>42.000000</td>\n",
       "      <td>42.000000</td>\n",
       "    </tr>\n",
       "    <tr>\n",
       "      <th>mean</th>\n",
       "      <td>2.380952</td>\n",
       "      <td>0.0</td>\n",
       "      <td>3.095238</td>\n",
       "      <td>1.642857</td>\n",
       "      <td>17.300606</td>\n",
       "      <td>66.062931</td>\n",
       "      <td>12.881318</td>\n",
       "      <td>2377.047619</td>\n",
       "    </tr>\n",
       "    <tr>\n",
       "      <th>std</th>\n",
       "      <td>1.228769</td>\n",
       "      <td>0.0</td>\n",
       "      <td>2.045930</td>\n",
       "      <td>0.576847</td>\n",
       "      <td>5.509036</td>\n",
       "      <td>20.394484</td>\n",
       "      <td>4.436803</td>\n",
       "      <td>1038.091611</td>\n",
       "    </tr>\n",
       "    <tr>\n",
       "      <th>min</th>\n",
       "      <td>1.000000</td>\n",
       "      <td>0.0</td>\n",
       "      <td>0.000000</td>\n",
       "      <td>1.000000</td>\n",
       "      <td>10.374763</td>\n",
       "      <td>0.000000</td>\n",
       "      <td>3.375406</td>\n",
       "      <td>577.000000</td>\n",
       "    </tr>\n",
       "    <tr>\n",
       "      <th>25%</th>\n",
       "      <td>1.000000</td>\n",
       "      <td>0.0</td>\n",
       "      <td>1.000000</td>\n",
       "      <td>1.000000</td>\n",
       "      <td>12.530625</td>\n",
       "      <td>52.576050</td>\n",
       "      <td>9.370067</td>\n",
       "      <td>1688.500000</td>\n",
       "    </tr>\n",
       "    <tr>\n",
       "      <th>50%</th>\n",
       "      <td>2.000000</td>\n",
       "      <td>0.0</td>\n",
       "      <td>3.000000</td>\n",
       "      <td>2.000000</td>\n",
       "      <td>15.754558</td>\n",
       "      <td>67.095100</td>\n",
       "      <td>13.875566</td>\n",
       "      <td>1919.000000</td>\n",
       "    </tr>\n",
       "    <tr>\n",
       "      <th>75%</th>\n",
       "      <td>4.000000</td>\n",
       "      <td>0.0</td>\n",
       "      <td>5.000000</td>\n",
       "      <td>2.000000</td>\n",
       "      <td>22.806260</td>\n",
       "      <td>83.113200</td>\n",
       "      <td>15.396114</td>\n",
       "      <td>3380.250000</td>\n",
       "    </tr>\n",
       "    <tr>\n",
       "      <th>max</th>\n",
       "      <td>4.000000</td>\n",
       "      <td>0.0</td>\n",
       "      <td>6.000000</td>\n",
       "      <td>3.000000</td>\n",
       "      <td>26.615847</td>\n",
       "      <td>97.250000</td>\n",
       "      <td>24.667189</td>\n",
       "      <td>4372.000000</td>\n",
       "    </tr>\n",
       "  </tbody>\n",
       "</table>\n",
       "</div>"
      ],
      "text/plain": [
       "          season  holiday    weekday    weather       temp   humidity  \\\n",
       "count  42.000000     42.0  42.000000  42.000000  42.000000  42.000000   \n",
       "mean    2.380952      0.0   3.095238   1.642857  17.300606  66.062931   \n",
       "std     1.228769      0.0   2.045930   0.576847   5.509036  20.394484   \n",
       "min     1.000000      0.0   0.000000   1.000000  10.374763   0.000000   \n",
       "25%     1.000000      0.0   1.000000   1.000000  12.530625  52.576050   \n",
       "50%     2.000000      0.0   3.000000   2.000000  15.754558  67.095100   \n",
       "75%     4.000000      0.0   5.000000   2.000000  22.806260  83.113200   \n",
       "max     4.000000      0.0   6.000000   3.000000  26.615847  97.250000   \n",
       "\n",
       "       windspeed  registered_bikes  \n",
       "count  42.000000         42.000000  \n",
       "mean   12.881318       2377.047619  \n",
       "std     4.436803       1038.091611  \n",
       "min     3.375406        577.000000  \n",
       "25%     9.370067       1688.500000  \n",
       "50%    13.875566       1919.000000  \n",
       "75%    15.396114       3380.250000  \n",
       "max    24.667189       4372.000000  "
      ]
     },
     "execution_count": 65,
     "metadata": {},
     "output_type": "execute_result"
    }
   ],
   "source": [
    "dataset.describe()"
   ]
  },
  {
   "cell_type": "markdown",
   "metadata": {},
   "source": [
    "## Preprocessing Steps"
   ]
  },
  {
   "cell_type": "markdown",
   "metadata": {
    "id": "rY2__D-L_0LI"
   },
   "source": [
    "### 1. Preparing Data as input and output"
   ]
  },
  {
   "cell_type": "code",
   "execution_count": 66,
   "metadata": {
    "id": "26paaK_r_fRY"
   },
   "outputs": [],
   "source": [
    "X = dataset.iloc[:,:-1].values\n",
    "y = dataset.iloc[:,-1].values"
   ]
  },
  {
   "cell_type": "code",
   "execution_count": 67,
   "metadata": {},
   "outputs": [
    {
     "name": "stdout",
     "output_type": "stream",
     "text": [
      "[[ 1.         0.         4.         1.        11.9925    42.0833\n",
      "   8.08355  ]\n",
      " [ 1.         0.         5.         2.        12.129153  77.5417\n",
      "  14.75005  ]\n",
      " [ 1.         0.         6.         3.        15.952731   0.\n",
      "  17.545759 ]\n",
      " [ 1.         0.         0.         2.        12.977402  64.9565\n",
      "  15.60899  ]\n",
      " [ 1.         0.         1.         1.        13.495847  59.4583\n",
      "  14.791925 ]\n",
      " [ 1.         0.         2.         1.        15.758268  52.7391\n",
      "  18.130468 ]\n",
      " [ 1.         0.         3.         1.        13.333897  49.6957\n",
      "   9.174042 ]\n",
      " [ 1.         0.         4.         2.        13.013031  65.5652\n",
      "  12.348703 ]\n",
      " [ 1.         0.         5.         2.        14.973897  77.6522\n",
      "  13.608839 ]\n",
      " [ 1.         0.         6.         1.        17.015     60.2917\n",
      "  14.041793 ]\n",
      " [ 1.         0.         0.         1.        22.14      52.5217\n",
      "  15.478139 ]\n",
      " [ 1.         0.         1.         1.        19.3725    37.9167\n",
      "  24.667189 ]\n",
      " [ 1.         0.         2.         1.        13.6325    47.375\n",
      "  13.917307 ]\n",
      " [ 2.         0.         3.         2.        17.647835  73.7391\n",
      "  19.348461 ]\n",
      " [ 2.         0.         4.         1.        18.108347  62.4583\n",
      "  15.12525  ]\n",
      " [ 2.         0.         5.         2.        14.225237  83.9565\n",
      "  15.695487 ]\n",
      " [ 2.         0.         6.         2.        11.685     80.5833\n",
      "  16.333729 ]\n",
      " [ 2.         0.         0.         1.        10.830847  49.5\n",
      "  15.458575 ]\n",
      " [ 2.         0.         1.         1.        10.899153  39.4167\n",
      "  14.041257 ]\n",
      " [ 2.         0.         2.         2.        10.374763  49.3913\n",
      "  12.3481   ]\n",
      " [ 2.         0.         3.         1.        10.838268  30.2174\n",
      "  14.217668 ]\n",
      " [ 2.         0.         4.         1.        12.4025    31.4167\n",
      "  15.208732 ]\n",
      " [ 2.         0.         5.         2.        12.3       64.6667\n",
      "  11.583496 ]\n",
      " [ 2.         0.         6.         3.        11.001653  91.8333\n",
      "  14.582282 ]\n",
      " [ 2.         0.         0.         2.        12.3       68.625\n",
      "  17.333436 ]\n",
      " [ 2.         0.         1.         2.        12.915     65.375\n",
      "  13.208782 ]\n",
      " [ 3.         0.         4.         2.        23.028347  88.125\n",
      "   9.041918 ]\n",
      " [ 3.         0.         5.         2.        24.395     90.\n",
      "   6.4590814]\n",
      " [ 3.         0.         6.         2.        25.761653  90.2083\n",
      "   8.584375 ]\n",
      " [ 4.         0.         0.         2.        24.975847  97.25\n",
      "   5.2505689]\n",
      " [ 4.         0.         1.         2.        24.873347  86.25\n",
      "   5.2516811]\n",
      " [ 4.         0.         2.         2.        26.000847  84.5\n",
      "   3.3754064]\n",
      " [ 4.         0.         3.         2.        26.615847  84.8333\n",
      "   7.4169   ]\n",
      " [ 4.         0.         4.         2.        26.103347  88.5417\n",
      "   7.917457 ]\n",
      " [ 4.         0.         5.         2.        26.035     84.875\n",
      "   9.958143 ]\n",
      " [ 4.         0.         6.         1.        25.283347  69.9167\n",
      "  11.583161 ]\n",
      " [ 4.         0.         0.         1.        23.130847  64.75\n",
      "  13.833825 ]\n",
      " [ 4.         0.         1.         2.        16.81      75.375\n",
      "  19.583832 ]\n",
      " [ 4.         0.         2.         2.        14.623347  79.1667\n",
      "  14.874871 ]\n",
      " [ 4.         0.         3.         2.        15.750847  76.0833\n",
      "   5.5841686]\n",
      " [ 4.         0.         4.         1.        19.850847  71.\n",
      "  13.792218 ]\n",
      " [ 4.         0.         5.         1.        22.071653  64.7917\n",
      "  11.87575  ]]\n"
     ]
    }
   ],
   "source": [
    "print(X)"
   ]
  },
  {
   "cell_type": "markdown",
   "metadata": {
    "id": "VadrvE7s_lS9"
   },
   "source": [
    "### 2. Encoding categorical data"
   ]
  },
  {
   "cell_type": "code",
   "execution_count": 68,
   "metadata": {
    "id": "ZpcdzvQbV0HR"
   },
   "outputs": [
    {
     "data": {
      "text/plain": [
       "\"from sklearn.compose import ColumnTransformer\\nfrom sklearn.preprocessing import OneHotEncoder\\nct= ColumnTransformer(transformers=[('encoder',OneHotEncoder(),[3])],remainder='passthrough')\\nX=np.array (ct.fit_transform(X))\""
      ]
     },
     "execution_count": 68,
     "metadata": {},
     "output_type": "execute_result"
    }
   ],
   "source": [
    "'''from sklearn.compose import ColumnTransformer\n",
    "from sklearn.preprocessing import OneHotEncoder\n",
    "ct= ColumnTransformer(transformers=[('encoder',OneHotEncoder(),[3])],remainder='passthrough')\n",
    "X=np.array (ct.fit_transform(X))'''"
   ]
  },
  {
   "cell_type": "markdown",
   "metadata": {
    "id": "WemVnqgeA70k"
   },
   "source": [
    "### 3. Splitting the dataset into the Training set and Test set"
   ]
  },
  {
   "cell_type": "code",
   "execution_count": 69,
   "metadata": {
    "id": "dOCQOgtrY2Ps"
   },
   "outputs": [],
   "source": [
    "from sklearn.model_selection import train_test_split\n",
    "X_train, X_test, y_train, y_test = train_test_split(X,y,test_size = 0.2 ,random_state = 9)"
   ]
  },
  {
   "cell_type": "markdown",
   "metadata": {
    "id": "k-McZVsQBINc"
   },
   "source": [
    "## Training the Multiple Linear Regression model on the Training set"
   ]
  },
  {
   "cell_type": "code",
   "execution_count": 70,
   "metadata": {
    "colab": {
     "base_uri": "https://localhost:8080/"
    },
    "id": "fdsnRkbzbz8P",
    "outputId": "ba83ba2d-e603-4059-eca7-b2ea99e8241f"
   },
   "outputs": [
    {
     "data": {
      "text/plain": [
       "LinearRegression()"
      ]
     },
     "execution_count": 70,
     "metadata": {},
     "output_type": "execute_result"
    }
   ],
   "source": [
    "from sklearn.linear_model import LinearRegression\n",
    "regressor = LinearRegression()\n",
    "regressor.fit(X_train,y_train)"
   ]
  },
  {
   "cell_type": "code",
   "execution_count": 71,
   "metadata": {},
   "outputs": [
    {
     "name": "stdout",
     "output_type": "stream",
     "text": [
      "Coefficient of our model [ 3.60715125e+02 -9.13047415e-13  1.21676589e+02 -2.63285887e+02\n",
      "  9.28286709e+01 -1.43994824e+00 -9.16210661e+00]\n",
      "intercept  of our model 192.33729330779852\n"
     ]
    }
   ],
   "source": [
    "# check th attribute of our model\n",
    "print(\"Coefficient of our model\", regressor.coef_)\n",
    "print(\"intercept  of our model\", regressor.intercept_)"
   ]
  },
  {
   "cell_type": "code",
   "execution_count": 72,
   "metadata": {},
   "outputs": [
    {
     "name": "stdout",
     "output_type": "stream",
     "text": [
      "Accuracy of our model 0.8616920107012758\n"
     ]
    }
   ],
   "source": [
    "# score of our model \n",
    "print(\"Accuracy of our model\", regressor.score(X_train, y_train))"
   ]
  },
  {
   "cell_type": "markdown",
   "metadata": {
    "id": "xNkXL1YQBiBT"
   },
   "source": [
    "## Predicting the Test set results"
   ]
  },
  {
   "cell_type": "code",
   "execution_count": 73,
   "metadata": {
    "id": "uEpgXb-RdDxE"
   },
   "outputs": [
    {
     "name": "stdout",
     "output_type": "stream",
     "text": [
      "[3203 1806 1767 1676 1949 1408 4372  577 1910]\n",
      "[3162.5696384  1847.83815324 1513.61874347 2106.99745292 2502.7873098\n",
      " 1443.10259173 3299.13406157 1813.36899056 1442.98423777]\n"
     ]
    }
   ],
   "source": [
    "y_pred = regressor.predict(X_test)\n",
    "print(y_test)\n",
    "print(y_pred)"
   ]
  },
  {
   "cell_type": "markdown",
   "metadata": {
    "id": "SGNeUFizh4Zf"
   },
   "source": [
    "## Making a single prediction (for example the no. of rented bikes with Season = 3, Holiday = 1, Weekday =6, Weather = 2,Temp=12.977402, Humidity=64.9565, Wind_speed=15.608990)"
   ]
  },
  {
   "cell_type": "code",
   "execution_count": 74,
   "metadata": {
    "colab": {
     "base_uri": "https://localhost:8080/"
    },
    "id": "O1lgsPfSh85b",
    "outputId": "c3ca3e06-420c-4a8d-f0c4-e24a9fff056e"
   },
   "outputs": [
    {
     "name": "stdout",
     "output_type": "stream",
     "text": [
      "[2446.10017653]\n"
     ]
    }
   ],
   "source": [
    "print(regressor.predict([[3,1,6,2,12.977402,64.9565,15.608990]]))"
   ]
  },
  {
   "cell_type": "markdown",
   "metadata": {
    "id": "hwFDYVXCii1r"
   },
   "source": [
    "Getting the final linear regression equation with the values of the coefficients"
   ]
  },
  {
   "cell_type": "markdown",
   "metadata": {
    "id": "EM524jreeuRe"
   },
   "source": [
    "## variance score: 1 means perfect prediction "
   ]
  },
  {
   "cell_type": "code",
   "execution_count": 75,
   "metadata": {
    "colab": {
     "base_uri": "https://localhost:8080/"
    },
    "id": "NgUp4jdce0t_",
    "outputId": "d772ab86-e75e-4eed-ca19-227ad15764ca"
   },
   "outputs": [
    {
     "name": "stdout",
     "output_type": "stream",
     "text": [
      "Variance score: 0.6399490900724962\n"
     ]
    }
   ],
   "source": [
    "print('Variance score: {}'.format(regressor.score(X_test, y_test))) "
   ]
  },
  {
   "cell_type": "markdown",
   "metadata": {
    "id": "72vgyhqDjX-a"
   },
   "source": [
    "In above example, we determine accuracy score using Explained Variance Score.\n",
    "\n",
    "We define:\n",
    "**explained_variance_score = 1 – Var{y – y’}/Var{y}**\n",
    "\n",
    "where  \n",
    "* y’ is the estimated target output,\n",
    "* y the corresponding (correct) target output\n",
    "* Var is Variance, the square of the standard deviation.\n",
    "\n",
    "***The best possible score is 1.0, lower values are worse.**"
   ]
  },
  {
   "cell_type": "markdown",
   "metadata": {
    "id": "ceCtQvX8fQpx"
   },
   "source": [
    "# plot for residual error \n",
    "  \n",
    "## setting plot style "
   ]
  },
  {
   "cell_type": "code",
   "execution_count": 76,
   "metadata": {
    "id": "BrqnUMq-fSlR"
   },
   "outputs": [],
   "source": [
    "plt.style.use('fivethirtyeight') "
   ]
  },
  {
   "cell_type": "markdown",
   "metadata": {
    "id": "jffJX6Feh8pC"
   },
   "source": [
    "## function to show plot "
   ]
  },
  {
   "cell_type": "code",
   "execution_count": 77,
   "metadata": {
    "colab": {
     "base_uri": "https://localhost:8080/",
     "height": 325
    },
    "id": "l2BL965dh9eK",
    "outputId": "f10defd8-9c7c-4471-ab11-1541144658da"
   },
   "outputs": [
    {
     "data": {
      "image/png": "[encoded data removed]",
      "text/plain": [
       "<Figure size 640x480 with 1 Axes>"
      ]
     },
     "metadata": {},
     "output_type": "display_data"
    }
   ],
   "source": [
    "plt.style.use('fivethirtyeight') \n",
    "plt.scatter(regressor.predict(X_train), regressor.predict(X_train) - y_train,color = \"green\", s = 10, label = 'Train data') \n",
    "plt.scatter(regressor.predict(X_test), regressor.predict(X_test) - y_test,color = \"blue\", s = 10, label = 'Test data') \n",
    "plt.hlines(y = 0, xmin = 0, xmax = 5000, linewidth = 2) \n",
    "plt.legend(loc = 'upper right') \n",
    "plt.title(\"Residual errors\") \n",
    "plt.xlabel(\"no. of rented bikes\")\n",
    "plt.ylabel(\"Error\")\n",
    "plt.show() "
   ]
  },
  {
   "cell_type": "markdown",
   "metadata": {},
   "source": [
    "### EVALUATING A MODEL USING R2 METRIC"
   ]
  },
  {
   "cell_type": "markdown",
   "metadata": {
    "id": "l5AypdiJApHY"
   },
   "source": [
    "#### Find the R^2 "
   ]
  },
  {
   "cell_type": "code",
   "execution_count": 78,
   "metadata": {
    "colab": {
     "base_uri": "https://localhost:8080/"
    },
    "id": "uEsbK37kAukr",
    "outputId": "22ef7ec4-bc15-4df6-bb65-9d7b0941e16c"
   },
   "outputs": [
    {
     "name": "stdout",
     "output_type": "stream",
     "text": [
      "0.6399490900724962\n"
     ]
    }
   ],
   "source": [
    "from sklearn.metrics import r2_score\n",
    "print(r2_score(y_test,y_pred))"
   ]
  },
  {
   "cell_type": "markdown",
   "metadata": {},
   "source": [
    "### When random_state parameter = 0 \n",
    "#### Then Accuracy Score (Training:0.8645265385327265 and Testing:0.7514579825012834)\n",
    "#### R2 Score 0.7514579825012834\n",
    "#### Coefficient of model(4.22331775e+02  2.73914225e-12  9.61597544e+01 -5.50332007e+02 5.32224504e+01  7.18846264e+00 -1.00443106e+01)\n",
    "#### Intercept of model(654.1725272540714)\n",
    "#### Test Example Result: no. of rented bikes with Season = 3, Holiday = 1, Weekday =6, Weather = 2,Temp=12.977402, Humidity=64.9565, Wind_speed=15.608990 is equal to **2398.30732866**"
   ]
  },
  {
   "cell_type": "markdown",
   "metadata": {},
   "source": [
    "### When random_state parameter = 9 \n",
    "#### Then Accuracy Score (Training:0.8616920107012758 and Testing:0.6399490900724962)\n",
    "#### R2 Score 0.6399490900724962\n",
    "#### Coefficient of model(3.60715125e+02 -9.13047415e-13  1.21676589e+02 -2.63285887e+02 9.28286709e+01 -1.43994824e+00 -9.16210661e+00)\n",
    "#### Intercept of model(192.33729330779852)\n",
    "#### Test Example Result: no. of rented bikes with Season = 3, Holiday = 1, Weekday =6, Weather = 2,Temp=12.977402, Humidity=64.9565, Wind_speed=15.608990 is equal to **2446.10017653**"
   ]
  }
 ],
 "metadata": {
  "colab": {
   "name": "ML _Lab 3_Part B multiple_linear_regression.ipynb",
   "provenance": []
  },
  "kernelspec": {
   "display_name": "Python 3 (ipykernel)",
   "language": "python",
   "name": "python3"
  },
  "language_info": {
   "codemirror_mode": {
    "name": "ipython",
    "version": 3
   },
   "file_extension": ".py",
   "mimetype": "text/x-python",
   "name": "python",
   "nbconvert_exporter": "python",
   "pygments_lexer": "ipython3",
   "version": "3.9.13"
  }
 },
 "nbformat": 4,
 "nbformat_minor": 1
}
