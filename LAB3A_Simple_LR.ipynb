{
 "cells": [
  {
   "cell_type": "markdown",
   "id": "0c88e581",
   "metadata": {},
   "source": [
    "# LAB 3A : Implement Simple Linear regression"
   ]
  },
  {
   "cell_type": "markdown",
   "id": "6669426e",
   "metadata": {},
   "source": [
    "## Import Libraries"
   ]
  },
  {
   "cell_type": "code",
   "execution_count": 1,
   "id": "396b547b",
   "metadata": {},
   "outputs": [],
   "source": [
    "import numpy as np\n",
    "import pandas as pd\n",
    "import matplotlib.pyplot as plt"
   ]
  },
  {
   "cell_type": "markdown",
   "id": "af56809a",
   "metadata": {},
   "source": [
    "## import dataset"
   ]
  },
  {
   "cell_type": "code",
   "execution_count": 2,
   "id": "b0d90b4d",
   "metadata": {},
   "outputs": [],
   "source": [
    "dataset = pd.read_csv(\"data.csv\")"
   ]
  },
  {
   "cell_type": "markdown",
   "id": "a223704c",
   "metadata": {},
   "source": [
    "## EDA Steps"
   ]
  },
  {
   "cell_type": "code",
   "execution_count": 3,
   "id": "afac5625",
   "metadata": {},
   "outputs": [
    {
     "data": {
      "text/html": [
       "<div>\n",
       "<style scoped>\n",
       "    .dataframe tbody tr th:only-of-type {\n",
       "        vertical-align: middle;\n",
       "    }\n",
       "\n",
       "    .dataframe tbody tr th {\n",
       "        vertical-align: top;\n",
       "    }\n",
       "\n",
       "    .dataframe thead th {\n",
       "        text-align: right;\n",
       "    }\n",
       "</style>\n",
       "<table border=\"1\" class=\"dataframe\">\n",
       "  <thead>\n",
       "    <tr style=\"text-align: right;\">\n",
       "      <th></th>\n",
       "      <th>Height</th>\n",
       "      <th>Weight</th>\n",
       "    </tr>\n",
       "  </thead>\n",
       "  <tbody>\n",
       "    <tr>\n",
       "      <th>0</th>\n",
       "      <td>1.47</td>\n",
       "      <td>52.21</td>\n",
       "    </tr>\n",
       "    <tr>\n",
       "      <th>1</th>\n",
       "      <td>1.50</td>\n",
       "      <td>53.12</td>\n",
       "    </tr>\n",
       "    <tr>\n",
       "      <th>2</th>\n",
       "      <td>1.52</td>\n",
       "      <td>54.48</td>\n",
       "    </tr>\n",
       "    <tr>\n",
       "      <th>3</th>\n",
       "      <td>1.55</td>\n",
       "      <td>55.84</td>\n",
       "    </tr>\n",
       "    <tr>\n",
       "      <th>4</th>\n",
       "      <td>1.57</td>\n",
       "      <td>57.20</td>\n",
       "    </tr>\n",
       "  </tbody>\n",
       "</table>\n",
       "</div>"
      ],
      "text/plain": [
       "   Height  Weight\n",
       "0    1.47   52.21\n",
       "1    1.50   53.12\n",
       "2    1.52   54.48\n",
       "3    1.55   55.84\n",
       "4    1.57   57.20"
      ]
     },
     "execution_count": 3,
     "metadata": {},
     "output_type": "execute_result"
    }
   ],
   "source": [
    "dataset.head()"
   ]
  },
  {
   "cell_type": "code",
   "execution_count": 4,
   "id": "c1fe5acd",
   "metadata": {},
   "outputs": [
    {
     "data": {
      "text/plain": [
       "(15, 2)"
      ]
     },
     "execution_count": 4,
     "metadata": {},
     "output_type": "execute_result"
    }
   ],
   "source": [
    "dataset.shape"
   ]
  },
  {
   "cell_type": "code",
   "execution_count": 5,
   "id": "43d8b9a0",
   "metadata": {},
   "outputs": [
    {
     "data": {
      "text/plain": [
       "Index(['Height', 'Weight'], dtype='object')"
      ]
     },
     "execution_count": 5,
     "metadata": {},
     "output_type": "execute_result"
    }
   ],
   "source": [
    "dataset.columns"
   ]
  },
  {
   "cell_type": "code",
   "execution_count": 6,
   "id": "03a1bec4",
   "metadata": {},
   "outputs": [
    {
     "name": "stdout",
     "output_type": "stream",
     "text": [
      "<class 'pandas.core.frame.DataFrame'>\n",
      "RangeIndex: 15 entries, 0 to 14\n",
      "Data columns (total 2 columns):\n",
      " #   Column  Non-Null Count  Dtype  \n",
      "---  ------  --------------  -----  \n",
      " 0   Height  15 non-null     float64\n",
      " 1   Weight  15 non-null     float64\n",
      "dtypes: float64(2)\n",
      "memory usage: 368.0 bytes\n"
     ]
    }
   ],
   "source": [
    "dataset.info()"
   ]
  },
  {
   "cell_type": "code",
   "execution_count": 7,
   "id": "abf019ba",
   "metadata": {},
   "outputs": [
    {
     "data": {
      "text/html": [
       "<div>\n",
       "<style scoped>\n",
       "    .dataframe tbody tr th:only-of-type {\n",
       "        vertical-align: middle;\n",
       "    }\n",
       "\n",
       "    .dataframe tbody tr th {\n",
       "        vertical-align: top;\n",
       "    }\n",
       "\n",
       "    .dataframe thead th {\n",
       "        text-align: right;\n",
       "    }\n",
       "</style>\n",
       "<table border=\"1\" class=\"dataframe\">\n",
       "  <thead>\n",
       "    <tr style=\"text-align: right;\">\n",
       "      <th></th>\n",
       "      <th>Height</th>\n",
       "      <th>Weight</th>\n",
       "    </tr>\n",
       "  </thead>\n",
       "  <tbody>\n",
       "    <tr>\n",
       "      <th>count</th>\n",
       "      <td>15.000000</td>\n",
       "      <td>15.000000</td>\n",
       "    </tr>\n",
       "    <tr>\n",
       "      <th>mean</th>\n",
       "      <td>1.650667</td>\n",
       "      <td>62.078000</td>\n",
       "    </tr>\n",
       "    <tr>\n",
       "      <th>std</th>\n",
       "      <td>0.114235</td>\n",
       "      <td>7.037515</td>\n",
       "    </tr>\n",
       "    <tr>\n",
       "      <th>min</th>\n",
       "      <td>1.470000</td>\n",
       "      <td>52.210000</td>\n",
       "    </tr>\n",
       "    <tr>\n",
       "      <th>25%</th>\n",
       "      <td>1.560000</td>\n",
       "      <td>56.520000</td>\n",
       "    </tr>\n",
       "    <tr>\n",
       "      <th>50%</th>\n",
       "      <td>1.650000</td>\n",
       "      <td>61.290000</td>\n",
       "    </tr>\n",
       "    <tr>\n",
       "      <th>75%</th>\n",
       "      <td>1.740000</td>\n",
       "      <td>67.190000</td>\n",
       "    </tr>\n",
       "    <tr>\n",
       "      <th>max</th>\n",
       "      <td>1.830000</td>\n",
       "      <td>74.460000</td>\n",
       "    </tr>\n",
       "  </tbody>\n",
       "</table>\n",
       "</div>"
      ],
      "text/plain": [
       "          Height     Weight\n",
       "count  15.000000  15.000000\n",
       "mean    1.650667  62.078000\n",
       "std     0.114235   7.037515\n",
       "min     1.470000  52.210000\n",
       "25%     1.560000  56.520000\n",
       "50%     1.650000  61.290000\n",
       "75%     1.740000  67.190000\n",
       "max     1.830000  74.460000"
      ]
     },
     "execution_count": 7,
     "metadata": {},
     "output_type": "execute_result"
    }
   ],
   "source": [
    "dataset.describe()"
   ]
  },
  {
   "cell_type": "markdown",
   "id": "77e9448b",
   "metadata": {},
   "source": [
    "## Preprocessing Steps"
   ]
  },
  {
   "cell_type": "code",
   "execution_count": 4,
   "id": "c7044db9",
   "metadata": {},
   "outputs": [],
   "source": [
    "# Step 1 : Seperate i/p Independent Var and \n",
    "# o/p Dependent Var\n",
    "X = dataset.iloc[:,:-1]\n",
    "y = dataset.iloc[:,-1]"
   ]
  },
  {
   "cell_type": "code",
   "execution_count": 9,
   "id": "ede74f1d",
   "metadata": {},
   "outputs": [
    {
     "name": "stdout",
     "output_type": "stream",
     "text": [
      "   Height\n",
      "0    1.47\n",
      "1    1.50\n",
      "2    1.52\n",
      "3    1.55\n",
      "4    1.57\n"
     ]
    }
   ],
   "source": [
    "print(X.head())"
   ]
  },
  {
   "cell_type": "code",
   "execution_count": 10,
   "id": "cee1d8d9",
   "metadata": {},
   "outputs": [
    {
     "name": "stdout",
     "output_type": "stream",
     "text": [
      "0    52.21\n",
      "1    53.12\n",
      "2    54.48\n",
      "3    55.84\n",
      "4    57.20\n",
      "Name: Weight, dtype: float64\n"
     ]
    }
   ],
   "source": [
    "print(y.head())"
   ]
  },
  {
   "cell_type": "code",
   "execution_count": 5,
   "id": "2daa314f",
   "metadata": {},
   "outputs": [],
   "source": [
    "# Step 4 : Split data into training and testing\n",
    "from sklearn.model_selection import train_test_split\n",
    "\n",
    "X_train,X_test,y_train,y_test = train_test_split (X,y,\n",
    "                                        test_size = 0.3,\n",
    "                                        random_state = 9)"
   ]
  },
  {
   "cell_type": "code",
   "execution_count": 6,
   "id": "0b1db57c",
   "metadata": {},
   "outputs": [
    {
     "name": "stdout",
     "output_type": "stream",
     "text": [
      "(10, 1)\n",
      "(5, 1)\n"
     ]
    }
   ],
   "source": [
    "print(X_train.shape)\n",
    "print(X_test.shape)"
   ]
  },
  {
   "cell_type": "markdown",
   "id": "0a434f27",
   "metadata": {},
   "source": [
    "## Create the Regression model on training data"
   ]
  },
  {
   "cell_type": "code",
   "execution_count": 7,
   "id": "80204ae0",
   "metadata": {},
   "outputs": [
    {
     "data": {
      "text/plain": [
       "LinearRegression()"
      ]
     },
     "execution_count": 7,
     "metadata": {},
     "output_type": "execute_result"
    }
   ],
   "source": [
    "from sklearn.linear_model import LinearRegression\n",
    "\n",
    "regressor = LinearRegression()\n",
    "\n",
    "regressor.fit(X_train,y_train)"
   ]
  },
  {
   "cell_type": "code",
   "execution_count": 8,
   "id": "6ec5af87",
   "metadata": {},
   "outputs": [
    {
     "name": "stdout",
     "output_type": "stream",
     "text": [
      "Intercept B0 =  -42.1913964702478\n",
      "Coefficient B1=  [63.0882438]\n"
     ]
    }
   ],
   "source": [
    "print(\"Intercept B0 = \",regressor.intercept_)\n",
    "print(\"Coefficient B1= \",regressor.coef_)"
   ]
  },
  {
   "cell_type": "markdown",
   "id": "cc4ca292",
   "metadata": {},
   "source": [
    "From Above values our model regression line equation\n",
    "\n",
    "**y = -42.1913964702478 + 63.0882438 * X**\n",
    "\n",
    "By using this equation lets find weight for height =1.45 meter"
   ]
  },
  {
   "cell_type": "code",
   "execution_count": 9,
   "id": "e03df444",
   "metadata": {},
   "outputs": [
    {
     "name": "stdout",
     "output_type": "stream",
     "text": [
      "weight for height(1.45 meter) =  49.28655703975219\n"
     ]
    }
   ],
   "source": [
    "ynew = -42.1913964702478 + 63.0882438 * 1.45\n",
    "\n",
    "print(\"weight for height(1.45 meter) = \",ynew)"
   ]
  },
  {
   "cell_type": "code",
   "execution_count": 10,
   "id": "9cf64bdb",
   "metadata": {},
   "outputs": [],
   "source": [
    "ypred = regressor.predict(X_test)"
   ]
  },
  {
   "cell_type": "code",
   "execution_count": 11,
   "id": "14c57d44",
   "metadata": {},
   "outputs": [
    {
     "name": "stdout",
     "output_type": "stream",
     "text": [
      "[71.36744238 61.90420581 66.95126531 53.70273411 50.54832192]\n",
      "13    72.19\n",
      "7     61.29\n",
      "10    66.28\n",
      "2     54.48\n",
      "0     52.21\n",
      "Name: Weight, dtype: float64\n"
     ]
    }
   ],
   "source": [
    "print(ypred)\n",
    "print(y_test)"
   ]
  },
  {
   "cell_type": "markdown",
   "id": "e7e5d442",
   "metadata": {},
   "source": [
    "#### Accuracy of model"
   ]
  },
  {
   "cell_type": "code",
   "execution_count": 12,
   "id": "93427881",
   "metadata": {},
   "outputs": [
    {
     "name": "stdout",
     "output_type": "stream",
     "text": [
      "Training accuracy = 0.9916295406010937\n"
     ]
    }
   ],
   "source": [
    "# 1. Training Accuracy\n",
    "\n",
    "print(\"Training accuracy =\",\n",
    "      regressor.score(X_train,y_train))"
   ]
  },
  {
   "cell_type": "code",
   "execution_count": 13,
   "id": "92d9f2af",
   "metadata": {},
   "outputs": [
    {
     "name": "stdout",
     "output_type": "stream",
     "text": [
      "Testing accuracy = 0.982131446908672\n"
     ]
    }
   ],
   "source": [
    "# 2. Testing Accuracy\n",
    "\n",
    "print(\"Testing accuracy =\",\n",
    "      regressor.score(X_test,y_test))"
   ]
  },
  {
   "cell_type": "markdown",
   "id": "1fb3de3c",
   "metadata": {},
   "source": [
    "### Visualizing the Model"
   ]
  },
  {
   "cell_type": "markdown",
   "id": "133861f0",
   "metadata": {},
   "source": [
    "#### 1. Visualize the training data"
   ]
  },
  {
   "cell_type": "code",
   "execution_count": 14,
   "id": "9ab68c6f",
   "metadata": {},
   "outputs": [
    {
     "data": {
      "image/png": "[encoded data removed]",
      "text/plain": [
       "<Figure size 640x480 with 1 Axes>"
      ]
     },
     "metadata": {},
     "output_type": "display_data"
    }
   ],
   "source": [
    "plt.scatter(X_train,y_train,color = 'red', s= 10)\n",
    "plt.plot(X_train, regressor.predict(X_train),\n",
    "        color = 'blue')\n",
    "plt.title(\"Simple Regression on Training Data\", size= 15)\n",
    "plt.xlabel(\"Height in meters\")\n",
    "plt.ylabel(\"Weight in Kg\")\n",
    "plt.show()"
   ]
  },
  {
   "cell_type": "markdown",
   "id": "a810c70d",
   "metadata": {},
   "source": [
    "#### 2. Visualize the testing data"
   ]
  },
  {
   "cell_type": "code",
   "execution_count": 15,
   "id": "159b7ee1",
   "metadata": {},
   "outputs": [
    {
     "data": {
      "image/png": "[encoded data removed]",
      "text/plain": [
       "<Figure size 640x480 with 1 Axes>"
      ]
     },
     "metadata": {},
     "output_type": "display_data"
    }
   ],
   "source": [
    "plt.scatter(X_test,y_test,color = 'red', s= 10)\n",
    "plt.plot(X_test, regressor.predict(X_test),\n",
    "        color = 'blue')\n",
    "plt.title(\"Simple Regression on Testing Data\", size= 15)\n",
    "plt.xlabel(\"Height in meters\")\n",
    "plt.ylabel(\"Weight in Kg\")\n",
    "plt.show()"
   ]
  },
  {
   "cell_type": "markdown",
   "id": "b009a8a1",
   "metadata": {},
   "source": [
    "#### Find R^2 Score of model"
   ]
  },
  {
   "cell_type": "code",
   "execution_count": 16,
   "id": "3b327b8c",
   "metadata": {},
   "outputs": [
    {
     "data": {
      "text/plain": [
       "0.982131446908672"
      ]
     },
     "execution_count": 16,
     "metadata": {},
     "output_type": "execute_result"
    }
   ],
   "source": [
    "from sklearn.metrics import r2_score\n",
    "r2_score(y_test,ypred)"
   ]
  },
  {
   "cell_type": "markdown",
   "id": "98014a0b",
   "metadata": {},
   "source": [
    "### When random_state parameter = 0 \n",
    "Then Accuracy Score (Training:0.9922780716193956 and Testing:0.9816224797640156)\n",
    "#### R2 Score 0.9816224797640156\n",
    "Coefficient of model(59.90953307)\n",
    "#### Intercept of model(-36.76345330739302)\n",
    "Test Example Result:weight for height(1.45 meter) =  50.10536964410697"
   ]
  },
  {
   "cell_type": "markdown",
   "id": "b6ef0b9f",
   "metadata": {},
   "source": [
    "### When random_state parameter = 9 \n",
    "Then Accuracy Score (Training:0.9916295406010937 and Testing:0.982131446908672)\n",
    "#### R2 Score 0.982131446908672\n",
    "Coefficient of model(63.0882438)\n",
    "#### Intercept of model(-42.1913964702478)\n",
    "Test Example Result:weight for height(1.45 meter) =  49.28655703975219"
   ]
  }
 ],
 "metadata": {
  "kernelspec": {
   "display_name": "Python 3 (ipykernel)",
   "language": "python",
   "name": "python3"
  },
  "language_info": {
   "codemirror_mode": {
    "name": "ipython",
    "version": 3
   },
   "file_extension": ".py",
   "mimetype": "text/x-python",
   "name": "python",
   "nbconvert_exporter": "python",
   "pygments_lexer": "ipython3",
   "version": "3.9.13"
  }
 },
 "nbformat": 4,
 "nbformat_minor": 5
}
